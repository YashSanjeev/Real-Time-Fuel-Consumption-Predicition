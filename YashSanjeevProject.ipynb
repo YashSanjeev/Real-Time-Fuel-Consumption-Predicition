{
  "nbformat": 4,
  "nbformat_minor": 0,
  "metadata": {
    "colab": {
      "provenance": []
    },
    "kernelspec": {
      "name": "python3",
      "display_name": "Python 3"
    },
    "language_info": {
      "name": "python"
    }
  },
  "cells": [
    {
      "cell_type": "code",
      "execution_count": 29,
      "metadata": {
        "colab": {
          "base_uri": "https://localhost:8080/",
          "height": 73
        },
        "id": "HO4phlXFUAUD",
        "outputId": "59e38fcf-c511-4a32-8f1f-c7906222163f"
      },
      "outputs": [
        {
          "output_type": "display_data",
          "data": {
            "text/plain": [
              "<IPython.core.display.HTML object>"
            ],
            "text/html": [
              "\n",
              "     <input type=\"file\" id=\"files-11a5c5a0-22e3-4e57-974d-7eace3124159\" name=\"files[]\" multiple disabled\n",
              "        style=\"border:none\" />\n",
              "     <output id=\"result-11a5c5a0-22e3-4e57-974d-7eace3124159\">\n",
              "      Upload widget is only available when the cell has been executed in the\n",
              "      current browser session. Please rerun this cell to enable.\n",
              "      </output>\n",
              "      <script>// Copyright 2017 Google LLC\n",
              "//\n",
              "// Licensed under the Apache License, Version 2.0 (the \"License\");\n",
              "// you may not use this file except in compliance with the License.\n",
              "// You may obtain a copy of the License at\n",
              "//\n",
              "//      http://www.apache.org/licenses/LICENSE-2.0\n",
              "//\n",
              "// Unless required by applicable law or agreed to in writing, software\n",
              "// distributed under the License is distributed on an \"AS IS\" BASIS,\n",
              "// WITHOUT WARRANTIES OR CONDITIONS OF ANY KIND, either express or implied.\n",
              "// See the License for the specific language governing permissions and\n",
              "// limitations under the License.\n",
              "\n",
              "/**\n",
              " * @fileoverview Helpers for google.colab Python module.\n",
              " */\n",
              "(function(scope) {\n",
              "function span(text, styleAttributes = {}) {\n",
              "  const element = document.createElement('span');\n",
              "  element.textContent = text;\n",
              "  for (const key of Object.keys(styleAttributes)) {\n",
              "    element.style[key] = styleAttributes[key];\n",
              "  }\n",
              "  return element;\n",
              "}\n",
              "\n",
              "// Max number of bytes which will be uploaded at a time.\n",
              "const MAX_PAYLOAD_SIZE = 100 * 1024;\n",
              "\n",
              "function _uploadFiles(inputId, outputId) {\n",
              "  const steps = uploadFilesStep(inputId, outputId);\n",
              "  const outputElement = document.getElementById(outputId);\n",
              "  // Cache steps on the outputElement to make it available for the next call\n",
              "  // to uploadFilesContinue from Python.\n",
              "  outputElement.steps = steps;\n",
              "\n",
              "  return _uploadFilesContinue(outputId);\n",
              "}\n",
              "\n",
              "// This is roughly an async generator (not supported in the browser yet),\n",
              "// where there are multiple asynchronous steps and the Python side is going\n",
              "// to poll for completion of each step.\n",
              "// This uses a Promise to block the python side on completion of each step,\n",
              "// then passes the result of the previous step as the input to the next step.\n",
              "function _uploadFilesContinue(outputId) {\n",
              "  const outputElement = document.getElementById(outputId);\n",
              "  const steps = outputElement.steps;\n",
              "\n",
              "  const next = steps.next(outputElement.lastPromiseValue);\n",
              "  return Promise.resolve(next.value.promise).then((value) => {\n",
              "    // Cache the last promise value to make it available to the next\n",
              "    // step of the generator.\n",
              "    outputElement.lastPromiseValue = value;\n",
              "    return next.value.response;\n",
              "  });\n",
              "}\n",
              "\n",
              "/**\n",
              " * Generator function which is called between each async step of the upload\n",
              " * process.\n",
              " * @param {string} inputId Element ID of the input file picker element.\n",
              " * @param {string} outputId Element ID of the output display.\n",
              " * @return {!Iterable<!Object>} Iterable of next steps.\n",
              " */\n",
              "function* uploadFilesStep(inputId, outputId) {\n",
              "  const inputElement = document.getElementById(inputId);\n",
              "  inputElement.disabled = false;\n",
              "\n",
              "  const outputElement = document.getElementById(outputId);\n",
              "  outputElement.innerHTML = '';\n",
              "\n",
              "  const pickedPromise = new Promise((resolve) => {\n",
              "    inputElement.addEventListener('change', (e) => {\n",
              "      resolve(e.target.files);\n",
              "    });\n",
              "  });\n",
              "\n",
              "  const cancel = document.createElement('button');\n",
              "  inputElement.parentElement.appendChild(cancel);\n",
              "  cancel.textContent = 'Cancel upload';\n",
              "  const cancelPromise = new Promise((resolve) => {\n",
              "    cancel.onclick = () => {\n",
              "      resolve(null);\n",
              "    };\n",
              "  });\n",
              "\n",
              "  // Wait for the user to pick the files.\n",
              "  const files = yield {\n",
              "    promise: Promise.race([pickedPromise, cancelPromise]),\n",
              "    response: {\n",
              "      action: 'starting',\n",
              "    }\n",
              "  };\n",
              "\n",
              "  cancel.remove();\n",
              "\n",
              "  // Disable the input element since further picks are not allowed.\n",
              "  inputElement.disabled = true;\n",
              "\n",
              "  if (!files) {\n",
              "    return {\n",
              "      response: {\n",
              "        action: 'complete',\n",
              "      }\n",
              "    };\n",
              "  }\n",
              "\n",
              "  for (const file of files) {\n",
              "    const li = document.createElement('li');\n",
              "    li.append(span(file.name, {fontWeight: 'bold'}));\n",
              "    li.append(span(\n",
              "        `(${file.type || 'n/a'}) - ${file.size} bytes, ` +\n",
              "        `last modified: ${\n",
              "            file.lastModifiedDate ? file.lastModifiedDate.toLocaleDateString() :\n",
              "                                    'n/a'} - `));\n",
              "    const percent = span('0% done');\n",
              "    li.appendChild(percent);\n",
              "\n",
              "    outputElement.appendChild(li);\n",
              "\n",
              "    const fileDataPromise = new Promise((resolve) => {\n",
              "      const reader = new FileReader();\n",
              "      reader.onload = (e) => {\n",
              "        resolve(e.target.result);\n",
              "      };\n",
              "      reader.readAsArrayBuffer(file);\n",
              "    });\n",
              "    // Wait for the data to be ready.\n",
              "    let fileData = yield {\n",
              "      promise: fileDataPromise,\n",
              "      response: {\n",
              "        action: 'continue',\n",
              "      }\n",
              "    };\n",
              "\n",
              "    // Use a chunked sending to avoid message size limits. See b/62115660.\n",
              "    let position = 0;\n",
              "    do {\n",
              "      const length = Math.min(fileData.byteLength - position, MAX_PAYLOAD_SIZE);\n",
              "      const chunk = new Uint8Array(fileData, position, length);\n",
              "      position += length;\n",
              "\n",
              "      const base64 = btoa(String.fromCharCode.apply(null, chunk));\n",
              "      yield {\n",
              "        response: {\n",
              "          action: 'append',\n",
              "          file: file.name,\n",
              "          data: base64,\n",
              "        },\n",
              "      };\n",
              "\n",
              "      let percentDone = fileData.byteLength === 0 ?\n",
              "          100 :\n",
              "          Math.round((position / fileData.byteLength) * 100);\n",
              "      percent.textContent = `${percentDone}% done`;\n",
              "\n",
              "    } while (position < fileData.byteLength);\n",
              "  }\n",
              "\n",
              "  // All done.\n",
              "  yield {\n",
              "    response: {\n",
              "      action: 'complete',\n",
              "    }\n",
              "  };\n",
              "}\n",
              "\n",
              "scope.google = scope.google || {};\n",
              "scope.google.colab = scope.google.colab || {};\n",
              "scope.google.colab._files = {\n",
              "  _uploadFiles,\n",
              "  _uploadFilesContinue,\n",
              "};\n",
              "})(self);\n",
              "</script> "
            ]
          },
          "metadata": {}
        },
        {
          "output_type": "stream",
          "name": "stdout",
          "text": [
            "Saving auto-mpg.csv to auto-mpg (1).csv\n"
          ]
        }
      ],
      "source": [
        "from google.colab import files\n",
        "uploades=files.upload()"
      ]
    },
    {
      "cell_type": "code",
      "source": [
        "import pandas as pd\n",
        "autompg=pd.read_csv(\"auto-mpg.csv\")\n",
        "autompg.head(2)"
      ],
      "metadata": {
        "colab": {
          "base_uri": "https://localhost:8080/",
          "height": 112
        },
        "id": "ymzniZkcUfbs",
        "outputId": "86d99638-1938-4ccc-fe1f-4d30ee4d133c"
      },
      "execution_count": 30,
      "outputs": [
        {
          "output_type": "execute_result",
          "data": {
            "text/plain": [
              "    mpg  cylinders  displacement horsepower  weight  acceleration  model year  \\\n",
              "0  18.0          8         307.0        130    3504          12.0          70   \n",
              "1  15.0          8         350.0        165    3693          11.5          70   \n",
              "\n",
              "   origin                   car name  \n",
              "0       1  chevrolet chevelle malibu  \n",
              "1       1          buick skylark 320  "
            ],
            "text/html": [
              "\n",
              "  <div id=\"df-562bd88d-5f4d-4c4a-a970-98a36963a5d6\" class=\"colab-df-container\">\n",
              "    <div>\n",
              "<style scoped>\n",
              "    .dataframe tbody tr th:only-of-type {\n",
              "        vertical-align: middle;\n",
              "    }\n",
              "\n",
              "    .dataframe tbody tr th {\n",
              "        vertical-align: top;\n",
              "    }\n",
              "\n",
              "    .dataframe thead th {\n",
              "        text-align: right;\n",
              "    }\n",
              "</style>\n",
              "<table border=\"1\" class=\"dataframe\">\n",
              "  <thead>\n",
              "    <tr style=\"text-align: right;\">\n",
              "      <th></th>\n",
              "      <th>mpg</th>\n",
              "      <th>cylinders</th>\n",
              "      <th>displacement</th>\n",
              "      <th>horsepower</th>\n",
              "      <th>weight</th>\n",
              "      <th>acceleration</th>\n",
              "      <th>model year</th>\n",
              "      <th>origin</th>\n",
              "      <th>car name</th>\n",
              "    </tr>\n",
              "  </thead>\n",
              "  <tbody>\n",
              "    <tr>\n",
              "      <th>0</th>\n",
              "      <td>18.0</td>\n",
              "      <td>8</td>\n",
              "      <td>307.0</td>\n",
              "      <td>130</td>\n",
              "      <td>3504</td>\n",
              "      <td>12.0</td>\n",
              "      <td>70</td>\n",
              "      <td>1</td>\n",
              "      <td>chevrolet chevelle malibu</td>\n",
              "    </tr>\n",
              "    <tr>\n",
              "      <th>1</th>\n",
              "      <td>15.0</td>\n",
              "      <td>8</td>\n",
              "      <td>350.0</td>\n",
              "      <td>165</td>\n",
              "      <td>3693</td>\n",
              "      <td>11.5</td>\n",
              "      <td>70</td>\n",
              "      <td>1</td>\n",
              "      <td>buick skylark 320</td>\n",
              "    </tr>\n",
              "  </tbody>\n",
              "</table>\n",
              "</div>\n",
              "    <div class=\"colab-df-buttons\">\n",
              "\n",
              "  <div class=\"colab-df-container\">\n",
              "    <button class=\"colab-df-convert\" onclick=\"convertToInteractive('df-562bd88d-5f4d-4c4a-a970-98a36963a5d6')\"\n",
              "            title=\"Convert this dataframe to an interactive table.\"\n",
              "            style=\"display:none;\">\n",
              "\n",
              "  <svg xmlns=\"http://www.w3.org/2000/svg\" height=\"24px\" viewBox=\"0 -960 960 960\">\n",
              "    <path d=\"M120-120v-720h720v720H120Zm60-500h600v-160H180v160Zm220 220h160v-160H400v160Zm0 220h160v-160H400v160ZM180-400h160v-160H180v160Zm440 0h160v-160H620v160ZM180-180h160v-160H180v160Zm440 0h160v-160H620v160Z\"/>\n",
              "  </svg>\n",
              "    </button>\n",
              "\n",
              "  <style>\n",
              "    .colab-df-container {\n",
              "      display:flex;\n",
              "      gap: 12px;\n",
              "    }\n",
              "\n",
              "    .colab-df-convert {\n",
              "      background-color: #E8F0FE;\n",
              "      border: none;\n",
              "      border-radius: 50%;\n",
              "      cursor: pointer;\n",
              "      display: none;\n",
              "      fill: #1967D2;\n",
              "      height: 32px;\n",
              "      padding: 0 0 0 0;\n",
              "      width: 32px;\n",
              "    }\n",
              "\n",
              "    .colab-df-convert:hover {\n",
              "      background-color: #E2EBFA;\n",
              "      box-shadow: 0px 1px 2px rgba(60, 64, 67, 0.3), 0px 1px 3px 1px rgba(60, 64, 67, 0.15);\n",
              "      fill: #174EA6;\n",
              "    }\n",
              "\n",
              "    .colab-df-buttons div {\n",
              "      margin-bottom: 4px;\n",
              "    }\n",
              "\n",
              "    [theme=dark] .colab-df-convert {\n",
              "      background-color: #3B4455;\n",
              "      fill: #D2E3FC;\n",
              "    }\n",
              "\n",
              "    [theme=dark] .colab-df-convert:hover {\n",
              "      background-color: #434B5C;\n",
              "      box-shadow: 0px 1px 3px 1px rgba(0, 0, 0, 0.15);\n",
              "      filter: drop-shadow(0px 1px 2px rgba(0, 0, 0, 0.3));\n",
              "      fill: #FFFFFF;\n",
              "    }\n",
              "  </style>\n",
              "\n",
              "    <script>\n",
              "      const buttonEl =\n",
              "        document.querySelector('#df-562bd88d-5f4d-4c4a-a970-98a36963a5d6 button.colab-df-convert');\n",
              "      buttonEl.style.display =\n",
              "        google.colab.kernel.accessAllowed ? 'block' : 'none';\n",
              "\n",
              "      async function convertToInteractive(key) {\n",
              "        const element = document.querySelector('#df-562bd88d-5f4d-4c4a-a970-98a36963a5d6');\n",
              "        const dataTable =\n",
              "          await google.colab.kernel.invokeFunction('convertToInteractive',\n",
              "                                                    [key], {});\n",
              "        if (!dataTable) return;\n",
              "\n",
              "        const docLinkHtml = 'Like what you see? Visit the ' +\n",
              "          '<a target=\"_blank\" href=https://colab.research.google.com/notebooks/data_table.ipynb>data table notebook</a>'\n",
              "          + ' to learn more about interactive tables.';\n",
              "        element.innerHTML = '';\n",
              "        dataTable['output_type'] = 'display_data';\n",
              "        await google.colab.output.renderOutput(dataTable, element);\n",
              "        const docLink = document.createElement('div');\n",
              "        docLink.innerHTML = docLinkHtml;\n",
              "        element.appendChild(docLink);\n",
              "      }\n",
              "    </script>\n",
              "  </div>\n",
              "\n",
              "\n",
              "<div id=\"df-8ca17072-6869-42a5-b8e2-d9c0a0e7c5f1\">\n",
              "  <button class=\"colab-df-quickchart\" onclick=\"quickchart('df-8ca17072-6869-42a5-b8e2-d9c0a0e7c5f1')\"\n",
              "            title=\"Suggest charts\"\n",
              "            style=\"display:none;\">\n",
              "\n",
              "<svg xmlns=\"http://www.w3.org/2000/svg\" height=\"24px\"viewBox=\"0 0 24 24\"\n",
              "     width=\"24px\">\n",
              "    <g>\n",
              "        <path d=\"M19 3H5c-1.1 0-2 .9-2 2v14c0 1.1.9 2 2 2h14c1.1 0 2-.9 2-2V5c0-1.1-.9-2-2-2zM9 17H7v-7h2v7zm4 0h-2V7h2v10zm4 0h-2v-4h2v4z\"/>\n",
              "    </g>\n",
              "</svg>\n",
              "  </button>\n",
              "\n",
              "<style>\n",
              "  .colab-df-quickchart {\n",
              "      --bg-color: #E8F0FE;\n",
              "      --fill-color: #1967D2;\n",
              "      --hover-bg-color: #E2EBFA;\n",
              "      --hover-fill-color: #174EA6;\n",
              "      --disabled-fill-color: #AAA;\n",
              "      --disabled-bg-color: #DDD;\n",
              "  }\n",
              "\n",
              "  [theme=dark] .colab-df-quickchart {\n",
              "      --bg-color: #3B4455;\n",
              "      --fill-color: #D2E3FC;\n",
              "      --hover-bg-color: #434B5C;\n",
              "      --hover-fill-color: #FFFFFF;\n",
              "      --disabled-bg-color: #3B4455;\n",
              "      --disabled-fill-color: #666;\n",
              "  }\n",
              "\n",
              "  .colab-df-quickchart {\n",
              "    background-color: var(--bg-color);\n",
              "    border: none;\n",
              "    border-radius: 50%;\n",
              "    cursor: pointer;\n",
              "    display: none;\n",
              "    fill: var(--fill-color);\n",
              "    height: 32px;\n",
              "    padding: 0;\n",
              "    width: 32px;\n",
              "  }\n",
              "\n",
              "  .colab-df-quickchart:hover {\n",
              "    background-color: var(--hover-bg-color);\n",
              "    box-shadow: 0 1px 2px rgba(60, 64, 67, 0.3), 0 1px 3px 1px rgba(60, 64, 67, 0.15);\n",
              "    fill: var(--button-hover-fill-color);\n",
              "  }\n",
              "\n",
              "  .colab-df-quickchart-complete:disabled,\n",
              "  .colab-df-quickchart-complete:disabled:hover {\n",
              "    background-color: var(--disabled-bg-color);\n",
              "    fill: var(--disabled-fill-color);\n",
              "    box-shadow: none;\n",
              "  }\n",
              "\n",
              "  .colab-df-spinner {\n",
              "    border: 2px solid var(--fill-color);\n",
              "    border-color: transparent;\n",
              "    border-bottom-color: var(--fill-color);\n",
              "    animation:\n",
              "      spin 1s steps(1) infinite;\n",
              "  }\n",
              "\n",
              "  @keyframes spin {\n",
              "    0% {\n",
              "      border-color: transparent;\n",
              "      border-bottom-color: var(--fill-color);\n",
              "      border-left-color: var(--fill-color);\n",
              "    }\n",
              "    20% {\n",
              "      border-color: transparent;\n",
              "      border-left-color: var(--fill-color);\n",
              "      border-top-color: var(--fill-color);\n",
              "    }\n",
              "    30% {\n",
              "      border-color: transparent;\n",
              "      border-left-color: var(--fill-color);\n",
              "      border-top-color: var(--fill-color);\n",
              "      border-right-color: var(--fill-color);\n",
              "    }\n",
              "    40% {\n",
              "      border-color: transparent;\n",
              "      border-right-color: var(--fill-color);\n",
              "      border-top-color: var(--fill-color);\n",
              "    }\n",
              "    60% {\n",
              "      border-color: transparent;\n",
              "      border-right-color: var(--fill-color);\n",
              "    }\n",
              "    80% {\n",
              "      border-color: transparent;\n",
              "      border-right-color: var(--fill-color);\n",
              "      border-bottom-color: var(--fill-color);\n",
              "    }\n",
              "    90% {\n",
              "      border-color: transparent;\n",
              "      border-bottom-color: var(--fill-color);\n",
              "    }\n",
              "  }\n",
              "</style>\n",
              "\n",
              "  <script>\n",
              "    async function quickchart(key) {\n",
              "      const quickchartButtonEl =\n",
              "        document.querySelector('#' + key + ' button');\n",
              "      quickchartButtonEl.disabled = true;  // To prevent multiple clicks.\n",
              "      quickchartButtonEl.classList.add('colab-df-spinner');\n",
              "      try {\n",
              "        const charts = await google.colab.kernel.invokeFunction(\n",
              "            'suggestCharts', [key], {});\n",
              "      } catch (error) {\n",
              "        console.error('Error during call to suggestCharts:', error);\n",
              "      }\n",
              "      quickchartButtonEl.classList.remove('colab-df-spinner');\n",
              "      quickchartButtonEl.classList.add('colab-df-quickchart-complete');\n",
              "    }\n",
              "    (() => {\n",
              "      let quickchartButtonEl =\n",
              "        document.querySelector('#df-8ca17072-6869-42a5-b8e2-d9c0a0e7c5f1 button');\n",
              "      quickchartButtonEl.style.display =\n",
              "        google.colab.kernel.accessAllowed ? 'block' : 'none';\n",
              "    })();\n",
              "  </script>\n",
              "</div>\n",
              "\n",
              "    </div>\n",
              "  </div>\n"
            ],
            "application/vnd.google.colaboratory.intrinsic+json": {
              "type": "dataframe",
              "variable_name": "autompg",
              "summary": "{\n  \"name\": \"autompg\",\n  \"rows\": 398,\n  \"fields\": [\n    {\n      \"column\": \"mpg\",\n      \"properties\": {\n        \"dtype\": \"number\",\n        \"std\": 7.815984312565782,\n        \"min\": 9.0,\n        \"max\": 46.6,\n        \"samples\": [\n          17.7,\n          30.5,\n          30.0\n        ],\n        \"num_unique_values\": 129,\n        \"semantic_type\": \"\",\n        \"description\": \"\"\n      }\n    },\n    {\n      \"column\": \"cylinders\",\n      \"properties\": {\n        \"dtype\": \"number\",\n        \"std\": 1,\n        \"min\": 3,\n        \"max\": 8,\n        \"samples\": [\n          4,\n          5,\n          6\n        ],\n        \"num_unique_values\": 5,\n        \"semantic_type\": \"\",\n        \"description\": \"\"\n      }\n    },\n    {\n      \"column\": \"displacement\",\n      \"properties\": {\n        \"dtype\": \"number\",\n        \"std\": 104.26983817119591,\n        \"min\": 68.0,\n        \"max\": 455.0,\n        \"samples\": [\n          122.0,\n          307.0,\n          360.0\n        ],\n        \"num_unique_values\": 82,\n        \"semantic_type\": \"\",\n        \"description\": \"\"\n      }\n    },\n    {\n      \"column\": \"horsepower\",\n      \"properties\": {\n        \"dtype\": \"category\",\n        \"samples\": [\n          \"112\",\n          \"?\",\n          \"78\"\n        ],\n        \"num_unique_values\": 94,\n        \"semantic_type\": \"\",\n        \"description\": \"\"\n      }\n    },\n    {\n      \"column\": \"weight\",\n      \"properties\": {\n        \"dtype\": \"number\",\n        \"std\": 846,\n        \"min\": 1613,\n        \"max\": 5140,\n        \"samples\": [\n          3730,\n          1995,\n          2215\n        ],\n        \"num_unique_values\": 351,\n        \"semantic_type\": \"\",\n        \"description\": \"\"\n      }\n    },\n    {\n      \"column\": \"acceleration\",\n      \"properties\": {\n        \"dtype\": \"number\",\n        \"std\": 2.757688929812676,\n        \"min\": 8.0,\n        \"max\": 24.8,\n        \"samples\": [\n          14.7,\n          18.0,\n          14.3\n        ],\n        \"num_unique_values\": 95,\n        \"semantic_type\": \"\",\n        \"description\": \"\"\n      }\n    },\n    {\n      \"column\": \"model year\",\n      \"properties\": {\n        \"dtype\": \"number\",\n        \"std\": 3,\n        \"min\": 70,\n        \"max\": 82,\n        \"samples\": [\n          81,\n          79,\n          70\n        ],\n        \"num_unique_values\": 13,\n        \"semantic_type\": \"\",\n        \"description\": \"\"\n      }\n    },\n    {\n      \"column\": \"origin\",\n      \"properties\": {\n        \"dtype\": \"number\",\n        \"std\": 0,\n        \"min\": 1,\n        \"max\": 3,\n        \"samples\": [\n          1,\n          3,\n          2\n        ],\n        \"num_unique_values\": 3,\n        \"semantic_type\": \"\",\n        \"description\": \"\"\n      }\n    },\n    {\n      \"column\": \"car name\",\n      \"properties\": {\n        \"dtype\": \"string\",\n        \"samples\": [\n          \"mazda rx-4\",\n          \"ford f108\",\n          \"buick century luxus (sw)\"\n        ],\n        \"num_unique_values\": 305,\n        \"semantic_type\": \"\",\n        \"description\": \"\"\n      }\n    }\n  ]\n}"
            }
          },
          "metadata": {},
          "execution_count": 30
        }
      ]
    },
    {
      "cell_type": "code",
      "source": [
        "autompg['horsepower'] = pd.to_numeric(autompg['horsepower'], errors='coerce')\n",
        "autompg['mpg'] = pd.to_numeric(autompg['mpg'], errors='coerce')\n",
        "autompg['cylinders'] = pd.to_numeric(autompg['cylinders'], errors='coerce')\n",
        "autompg['displacement'] = pd.to_numeric(autompg['displacement'], errors='coerce')\n",
        "autompg['weight'] = pd.to_numeric(autompg['weight'], errors='coerce')\n",
        "autompg['acceleration'] = pd.to_numeric(autompg['acceleration'], errors='coerce')\n",
        "autompg['model year'] = pd.to_numeric(autompg['model year'], errors='coerce')\n",
        "autompg['origin'] = pd.to_numeric(autompg['origin'], errors='coerce')"
      ],
      "metadata": {
        "id": "3K7DINRviR9M"
      },
      "execution_count": 31,
      "outputs": []
    },
    {
      "cell_type": "code",
      "source": [
        "##Counting Null Values\n",
        "print(autompg.isnull().sum())"
      ],
      "metadata": {
        "colab": {
          "base_uri": "https://localhost:8080/"
        },
        "id": "FZqI3ipSUx4A",
        "outputId": "ad636fe5-0524-466b-9379-2ec891bdbf74"
      },
      "execution_count": 32,
      "outputs": [
        {
          "output_type": "stream",
          "name": "stdout",
          "text": [
            "mpg             0\n",
            "cylinders       0\n",
            "displacement    0\n",
            "horsepower      6\n",
            "weight          0\n",
            "acceleration    0\n",
            "model year      0\n",
            "origin          0\n",
            "car name        0\n",
            "dtype: int64\n"
          ]
        }
      ]
    },
    {
      "cell_type": "code",
      "source": [
        "##Handling null Values\n",
        "autompg=autompg.dropna()"
      ],
      "metadata": {
        "id": "EYk8EgE9i-4T"
      },
      "execution_count": 33,
      "outputs": []
    },
    {
      "cell_type": "code",
      "source": [
        "#Checking again for null values\n",
        "print(autompg.isnull().sum())"
      ],
      "metadata": {
        "colab": {
          "base_uri": "https://localhost:8080/"
        },
        "id": "wtuUtv8jjYLf",
        "outputId": "270fa714-4883-418c-dad2-6f58369afc5c"
      },
      "execution_count": 34,
      "outputs": [
        {
          "output_type": "stream",
          "name": "stdout",
          "text": [
            "mpg             0\n",
            "cylinders       0\n",
            "displacement    0\n",
            "horsepower      0\n",
            "weight          0\n",
            "acceleration    0\n",
            "model year      0\n",
            "origin          0\n",
            "car name        0\n",
            "dtype: int64\n"
          ]
        }
      ]
    },
    {
      "cell_type": "code",
      "source": [
        "##Checking duplicated Rows\n",
        "duplicate=autompg[autompg.duplicated()]\n",
        "print(duplicate)"
      ],
      "metadata": {
        "colab": {
          "base_uri": "https://localhost:8080/"
        },
        "id": "jEo-fqPiVbvh",
        "outputId": "308ee82b-a54b-482b-ed66-7fc0ff331798"
      },
      "execution_count": 35,
      "outputs": [
        {
          "output_type": "stream",
          "name": "stdout",
          "text": [
            "Empty DataFrame\n",
            "Columns: [mpg, cylinders, displacement, horsepower, weight, acceleration, model year, origin, car name]\n",
            "Index: []\n"
          ]
        }
      ]
    },
    {
      "cell_type": "code",
      "source": [
        "import numpy as np"
      ],
      "metadata": {
        "id": "TBJc_vFQZbTD"
      },
      "execution_count": 36,
      "outputs": []
    },
    {
      "cell_type": "code",
      "source": [
        "import warnings\n",
        "# Ignore all warnings\n",
        "warnings.filterwarnings('ignore')"
      ],
      "metadata": {
        "id": "g8ITXOCIa7W9"
      },
      "execution_count": 37,
      "outputs": []
    },
    {
      "cell_type": "code",
      "source": [
        "##Detecting outliers using iqr\n",
        "#cylinders\n",
        "Q1=np.percentile(autompg['cylinders'],25,interpolation='midpoint')\n",
        "Q2=np.percentile(autompg['cylinders'],50,interpolation='midpoint')\n",
        "Q3=np.percentile(autompg['cylinders'],75,interpolation='midpoint')\n",
        "print('Q1=',Q1,' Q2=',Q2,' Q3=',Q3)\n",
        "IQR=Q3-Q1\n",
        "print(\"IQR = \",IQR)\n",
        "upper=Q3+(1.5*IQR)\n",
        "lower=Q1-(1.5*IQR)\n",
        "print(\"Upper Limit is \",upper,\" Lower Limit is \",lower)\n",
        "outlier_cyl=[]\n",
        "for x in autompg['cylinders']:\n",
        "  if((x>upper) or (x<lower)):\n",
        "    outlier_cyl.append(x)\n",
        "print(\"Outliers = \",outlier_cyl)"
      ],
      "metadata": {
        "colab": {
          "base_uri": "https://localhost:8080/"
        },
        "id": "gtEKKoYrX0fN",
        "outputId": "c62f34e9-1a07-4134-a5ac-bbf683afc5c6"
      },
      "execution_count": 38,
      "outputs": [
        {
          "output_type": "stream",
          "name": "stdout",
          "text": [
            "Q1= 4.0  Q2= 4.0  Q3= 8.0\n",
            "IQR =  4.0\n",
            "Upper Limit is  14.0  Lower Limit is  -2.0\n",
            "Outliers =  []\n"
          ]
        }
      ]
    },
    {
      "cell_type": "code",
      "source": [
        "#displacement\n",
        "Q1=np.percentile(autompg['displacement'],25,interpolation='midpoint')\n",
        "Q2=np.percentile(autompg['displacement'],50,interpolation='midpoint')\n",
        "Q3=np.percentile(autompg['displacement'],75,interpolation='midpoint')\n",
        "print('Q1=',Q1,' Q2=',Q2,' Q3=',Q3)\n",
        "IQR=Q3-Q1\n",
        "print(\"IQR = \",IQR)\n",
        "upper=Q3+(1.5*IQR)\n",
        "lower=Q1-(1.5*IQR)\n",
        "print(\"Upper Limit is \",upper,\" Lower Limit is \",lower)\n",
        "outlier_displacement=[]\n",
        "for x in autompg['displacement']:\n",
        "  if((x>upper) or (x<lower)):\n",
        "    outlier_displacement.append(x)\n",
        "print(\"Outliers = \",outlier_displacement)"
      ],
      "metadata": {
        "colab": {
          "base_uri": "https://localhost:8080/"
        },
        "id": "o2gDiGTsd8uX",
        "outputId": "20e63667-8511-4da7-ff59-2fd4ae0b26b2"
      },
      "execution_count": 39,
      "outputs": [
        {
          "output_type": "stream",
          "name": "stdout",
          "text": [
            "Q1= 105.0  Q2= 151.0  Q3= 284.5\n",
            "IQR =  179.5\n",
            "Upper Limit is  553.75  Lower Limit is  -164.25\n",
            "Outliers =  []\n"
          ]
        }
      ]
    },
    {
      "cell_type": "code",
      "source": [
        "#horsepower\n",
        "Q1=np.percentile(autompg['horsepower'],25,interpolation='midpoint')\n",
        "Q2=np.percentile(autompg['horsepower'],50,interpolation='midpoint')\n",
        "Q3=np.percentile(autompg['horsepower'],75,interpolation='midpoint')\n",
        "print('Q1=',Q1,' Q2=',Q2,' Q3=',Q3)\n",
        "IQR=Q3-Q1\n",
        "print(\"IQR = \",IQR)\n",
        "upper=Q3+(1.5*IQR)\n",
        "lower=Q1-(1.5*IQR)\n",
        "print(\"Upper Limit is \",upper,\" Lower Limit is \",lower)\n",
        "outlier_horsepower=[]\n",
        "for x in autompg['horsepower']:\n",
        "  if((x>upper) or (x<lower)):\n",
        "    outlier_horsepower.append(x)\n",
        "print(\"Outliers = \",outlier_horsepower)"
      ],
      "metadata": {
        "colab": {
          "base_uri": "https://localhost:8080/"
        },
        "id": "V-BFI0YsezAp",
        "outputId": "178d5b3e-6936-4808-d162-3c7fceea045f"
      },
      "execution_count": 40,
      "outputs": [
        {
          "output_type": "stream",
          "name": "stdout",
          "text": [
            "Q1= 75.0  Q2= 93.5  Q3= 127.0\n",
            "IQR =  52.0\n",
            "Upper Limit is  205.0  Lower Limit is  -3.0\n",
            "Outliers =  [220.0, 215.0, 225.0, 225.0, 215.0, 210.0, 208.0, 215.0, 225.0, 230.0]\n"
          ]
        }
      ]
    },
    {
      "cell_type": "code",
      "source": [
        "#weight\n",
        "Q1=np.percentile(autompg['weight'],25,interpolation='midpoint')\n",
        "Q2=np.percentile(autompg['weight'],50,interpolation='midpoint')\n",
        "Q3=np.percentile(autompg['weight'],75,interpolation='midpoint')\n",
        "print('Q1=',Q1,' Q2=',Q2,' Q3=',Q3)\n",
        "IQR=Q3-Q1\n",
        "print(\"IQR = \",IQR)\n",
        "upper=Q3+(1.5*IQR)\n",
        "lower=Q1-(1.5*IQR)\n",
        "print(\"Upper Limit is \",upper,\" Lower Limit is \",lower)\n",
        "outlier_weight=[]\n",
        "for x in autompg['weight']:\n",
        "  if((x>upper) or (x<lower)):\n",
        "    outlier_weight.append(x)\n",
        "print(\"Outliers = \",outlier_weight)"
      ],
      "metadata": {
        "colab": {
          "base_uri": "https://localhost:8080/"
        },
        "id": "Fu3Ca7D0kR8Z",
        "outputId": "027af2da-f38b-4e90-a912-cb2c58995a25"
      },
      "execution_count": 41,
      "outputs": [
        {
          "output_type": "stream",
          "name": "stdout",
          "text": [
            "Q1= 2224.5  Q2= 2803.5  Q3= 3616.5\n",
            "IQR =  1392.0\n",
            "Upper Limit is  5704.5  Lower Limit is  136.5\n",
            "Outliers =  []\n"
          ]
        }
      ]
    },
    {
      "cell_type": "code",
      "source": [
        "#acceleration\n",
        "Q1=np.percentile(autompg['acceleration'],25,interpolation='midpoint')\n",
        "Q2=np.percentile(autompg['acceleration'],50,interpolation='midpoint')\n",
        "Q3=np.percentile(autompg['acceleration'],75,interpolation='midpoint')\n",
        "print('Q1=',Q1,' Q2=',Q2,' Q3=',Q3)\n",
        "IQR=Q3-Q1\n",
        "print(\"IQR = \",IQR)\n",
        "upper=Q3+(1.5*IQR)\n",
        "lower=Q1-(1.5*IQR)\n",
        "print(\"Upper Limit is \",upper,\" Lower Limit is \",lower)\n",
        "outlier_acceleration=[]\n",
        "for x in autompg['acceleration']:\n",
        "  if((x>upper) or (x<lower)):\n",
        "    outlier_acceleration.append(x)\n",
        "print(\"Outliers = \",outlier_acceleration)"
      ],
      "metadata": {
        "colab": {
          "base_uri": "https://localhost:8080/"
        },
        "id": "OXgh4TJhm9kc",
        "outputId": "767b29d2-7520-421f-f6c7-2dd07f4641da"
      },
      "execution_count": 42,
      "outputs": [
        {
          "output_type": "stream",
          "name": "stdout",
          "text": [
            "Q1= 13.75  Q2= 15.5  Q3= 17.05\n",
            "IQR =  3.3000000000000007\n",
            "Upper Limit is  22.0  Lower Limit is  8.799999999999999\n",
            "Outliers =  [8.5, 8.5, 8.0, 23.5, 22.2, 22.1, 24.8, 22.2, 23.7, 24.6]\n"
          ]
        }
      ]
    },
    {
      "cell_type": "code",
      "source": [
        "#Label Encoding Car name\n",
        "from sklearn.preprocessing import LabelEncoder\n",
        "labelencoder=LabelEncoder()\n",
        "autompg['car name']=labelencoder.fit_transform(autompg['car name'])\n",
        "autompg.head(1)"
      ],
      "metadata": {
        "colab": {
          "base_uri": "https://localhost:8080/",
          "height": 81
        },
        "id": "2Zd6tU2-PhU0",
        "outputId": "ef32c086-f864-43bf-9667-e4dd0353eb46"
      },
      "execution_count": 43,
      "outputs": [
        {
          "output_type": "execute_result",
          "data": {
            "text/plain": [
              "    mpg  cylinders  displacement  horsepower  weight  acceleration  \\\n",
              "0  18.0          8         307.0       130.0    3504          12.0   \n",
              "\n",
              "   model year  origin  car name  \n",
              "0          70       1        48  "
            ],
            "text/html": [
              "\n",
              "  <div id=\"df-7c71f1ad-3e2c-4525-8a6a-adeda5e91a2e\" class=\"colab-df-container\">\n",
              "    <div>\n",
              "<style scoped>\n",
              "    .dataframe tbody tr th:only-of-type {\n",
              "        vertical-align: middle;\n",
              "    }\n",
              "\n",
              "    .dataframe tbody tr th {\n",
              "        vertical-align: top;\n",
              "    }\n",
              "\n",
              "    .dataframe thead th {\n",
              "        text-align: right;\n",
              "    }\n",
              "</style>\n",
              "<table border=\"1\" class=\"dataframe\">\n",
              "  <thead>\n",
              "    <tr style=\"text-align: right;\">\n",
              "      <th></th>\n",
              "      <th>mpg</th>\n",
              "      <th>cylinders</th>\n",
              "      <th>displacement</th>\n",
              "      <th>horsepower</th>\n",
              "      <th>weight</th>\n",
              "      <th>acceleration</th>\n",
              "      <th>model year</th>\n",
              "      <th>origin</th>\n",
              "      <th>car name</th>\n",
              "    </tr>\n",
              "  </thead>\n",
              "  <tbody>\n",
              "    <tr>\n",
              "      <th>0</th>\n",
              "      <td>18.0</td>\n",
              "      <td>8</td>\n",
              "      <td>307.0</td>\n",
              "      <td>130.0</td>\n",
              "      <td>3504</td>\n",
              "      <td>12.0</td>\n",
              "      <td>70</td>\n",
              "      <td>1</td>\n",
              "      <td>48</td>\n",
              "    </tr>\n",
              "  </tbody>\n",
              "</table>\n",
              "</div>\n",
              "    <div class=\"colab-df-buttons\">\n",
              "\n",
              "  <div class=\"colab-df-container\">\n",
              "    <button class=\"colab-df-convert\" onclick=\"convertToInteractive('df-7c71f1ad-3e2c-4525-8a6a-adeda5e91a2e')\"\n",
              "            title=\"Convert this dataframe to an interactive table.\"\n",
              "            style=\"display:none;\">\n",
              "\n",
              "  <svg xmlns=\"http://www.w3.org/2000/svg\" height=\"24px\" viewBox=\"0 -960 960 960\">\n",
              "    <path d=\"M120-120v-720h720v720H120Zm60-500h600v-160H180v160Zm220 220h160v-160H400v160Zm0 220h160v-160H400v160ZM180-400h160v-160H180v160Zm440 0h160v-160H620v160ZM180-180h160v-160H180v160Zm440 0h160v-160H620v160Z\"/>\n",
              "  </svg>\n",
              "    </button>\n",
              "\n",
              "  <style>\n",
              "    .colab-df-container {\n",
              "      display:flex;\n",
              "      gap: 12px;\n",
              "    }\n",
              "\n",
              "    .colab-df-convert {\n",
              "      background-color: #E8F0FE;\n",
              "      border: none;\n",
              "      border-radius: 50%;\n",
              "      cursor: pointer;\n",
              "      display: none;\n",
              "      fill: #1967D2;\n",
              "      height: 32px;\n",
              "      padding: 0 0 0 0;\n",
              "      width: 32px;\n",
              "    }\n",
              "\n",
              "    .colab-df-convert:hover {\n",
              "      background-color: #E2EBFA;\n",
              "      box-shadow: 0px 1px 2px rgba(60, 64, 67, 0.3), 0px 1px 3px 1px rgba(60, 64, 67, 0.15);\n",
              "      fill: #174EA6;\n",
              "    }\n",
              "\n",
              "    .colab-df-buttons div {\n",
              "      margin-bottom: 4px;\n",
              "    }\n",
              "\n",
              "    [theme=dark] .colab-df-convert {\n",
              "      background-color: #3B4455;\n",
              "      fill: #D2E3FC;\n",
              "    }\n",
              "\n",
              "    [theme=dark] .colab-df-convert:hover {\n",
              "      background-color: #434B5C;\n",
              "      box-shadow: 0px 1px 3px 1px rgba(0, 0, 0, 0.15);\n",
              "      filter: drop-shadow(0px 1px 2px rgba(0, 0, 0, 0.3));\n",
              "      fill: #FFFFFF;\n",
              "    }\n",
              "  </style>\n",
              "\n",
              "    <script>\n",
              "      const buttonEl =\n",
              "        document.querySelector('#df-7c71f1ad-3e2c-4525-8a6a-adeda5e91a2e button.colab-df-convert');\n",
              "      buttonEl.style.display =\n",
              "        google.colab.kernel.accessAllowed ? 'block' : 'none';\n",
              "\n",
              "      async function convertToInteractive(key) {\n",
              "        const element = document.querySelector('#df-7c71f1ad-3e2c-4525-8a6a-adeda5e91a2e');\n",
              "        const dataTable =\n",
              "          await google.colab.kernel.invokeFunction('convertToInteractive',\n",
              "                                                    [key], {});\n",
              "        if (!dataTable) return;\n",
              "\n",
              "        const docLinkHtml = 'Like what you see? Visit the ' +\n",
              "          '<a target=\"_blank\" href=https://colab.research.google.com/notebooks/data_table.ipynb>data table notebook</a>'\n",
              "          + ' to learn more about interactive tables.';\n",
              "        element.innerHTML = '';\n",
              "        dataTable['output_type'] = 'display_data';\n",
              "        await google.colab.output.renderOutput(dataTable, element);\n",
              "        const docLink = document.createElement('div');\n",
              "        docLink.innerHTML = docLinkHtml;\n",
              "        element.appendChild(docLink);\n",
              "      }\n",
              "    </script>\n",
              "  </div>\n",
              "\n",
              "\n",
              "    </div>\n",
              "  </div>\n"
            ],
            "application/vnd.google.colaboratory.intrinsic+json": {
              "type": "dataframe",
              "variable_name": "autompg",
              "summary": "{\n  \"name\": \"autompg\",\n  \"rows\": 392,\n  \"fields\": [\n    {\n      \"column\": \"mpg\",\n      \"properties\": {\n        \"dtype\": \"number\",\n        \"std\": 7.8050074865717995,\n        \"min\": 9.0,\n        \"max\": 46.6,\n        \"samples\": [\n          17.5,\n          35.1,\n          28.8\n        ],\n        \"num_unique_values\": 127,\n        \"semantic_type\": \"\",\n        \"description\": \"\"\n      }\n    },\n    {\n      \"column\": \"cylinders\",\n      \"properties\": {\n        \"dtype\": \"number\",\n        \"std\": 1,\n        \"min\": 3,\n        \"max\": 8,\n        \"samples\": [\n          4,\n          5,\n          6\n        ],\n        \"num_unique_values\": 5,\n        \"semantic_type\": \"\",\n        \"description\": \"\"\n      }\n    },\n    {\n      \"column\": \"displacement\",\n      \"properties\": {\n        \"dtype\": \"number\",\n        \"std\": 104.64400390890466,\n        \"min\": 68.0,\n        \"max\": 455.0,\n        \"samples\": [\n          116.0,\n          307.0,\n          360.0\n        ],\n        \"num_unique_values\": 81,\n        \"semantic_type\": \"\",\n        \"description\": \"\"\n      }\n    },\n    {\n      \"column\": \"horsepower\",\n      \"properties\": {\n        \"dtype\": \"number\",\n        \"std\": 38.49115993282849,\n        \"min\": 46.0,\n        \"max\": 230.0,\n        \"samples\": [\n          92.0,\n          100.0,\n          52.0\n        ],\n        \"num_unique_values\": 93,\n        \"semantic_type\": \"\",\n        \"description\": \"\"\n      }\n    },\n    {\n      \"column\": \"weight\",\n      \"properties\": {\n        \"dtype\": \"number\",\n        \"std\": 849,\n        \"min\": 1613,\n        \"max\": 5140,\n        \"samples\": [\n          2472,\n          3221,\n          2700\n        ],\n        \"num_unique_values\": 346,\n        \"semantic_type\": \"\",\n        \"description\": \"\"\n      }\n    },\n    {\n      \"column\": \"acceleration\",\n      \"properties\": {\n        \"dtype\": \"number\",\n        \"std\": 2.758864119188082,\n        \"min\": 8.0,\n        \"max\": 24.8,\n        \"samples\": [\n          14.7,\n          18.0,\n          14.3\n        ],\n        \"num_unique_values\": 95,\n        \"semantic_type\": \"\",\n        \"description\": \"\"\n      }\n    },\n    {\n      \"column\": \"model year\",\n      \"properties\": {\n        \"dtype\": \"number\",\n        \"std\": 3,\n        \"min\": 70,\n        \"max\": 82,\n        \"samples\": [\n          81,\n          79,\n          70\n        ],\n        \"num_unique_values\": 13,\n        \"semantic_type\": \"\",\n        \"description\": \"\"\n      }\n    },\n    {\n      \"column\": \"origin\",\n      \"properties\": {\n        \"dtype\": \"number\",\n        \"std\": 0,\n        \"min\": 1,\n        \"max\": 3,\n        \"samples\": [\n          1,\n          3,\n          2\n        ],\n        \"num_unique_values\": 3,\n        \"semantic_type\": \"\",\n        \"description\": \"\"\n      }\n    },\n    {\n      \"column\": \"car name\",\n      \"properties\": {\n        \"dtype\": \"number\",\n        \"std\": 88,\n        \"min\": 0,\n        \"max\": 300,\n        \"samples\": [\n          258,\n          25,\n          223\n        ],\n        \"num_unique_values\": 301,\n        \"semantic_type\": \"\",\n        \"description\": \"\"\n      }\n    }\n  ]\n}"
            }
          },
          "metadata": {},
          "execution_count": 43
        }
      ]
    },
    {
      "cell_type": "code",
      "source": [
        "##Random Forest regression\n",
        "from sklearn.model_selection import train_test_split\n",
        "from sklearn.ensemble import RandomForestRegressor\n",
        "from sklearn.metrics import mean_squared_error,r2_score\n",
        "X=autompg[['cylinders','displacement','horsepower','weight','acceleration','model year','origin','car name']]\n",
        "y=autompg['mpg']\n",
        "from sklearn.model_selection import train_test_split\n",
        "X_train,X_test,y_train,y_test=train_test_split(X,y,test_size=0.3)\n",
        "rf_regressor=RandomForestRegressor(n_estimators=100, random_state=42)\n",
        "rf_regressor.fit(X_train,y_train)\n",
        "y_pred=rf_regressor.predict(X_test)\n",
        "\n",
        "\n",
        "mse = mean_squared_error(y_test, y_pred)\n",
        "print(\"Mean Squared Error:\", mse)\n",
        "\n",
        "rmse = np.sqrt(mse)\n",
        "print(\"Root Mean Squared Error:\", rmse)\n",
        "\n",
        "r2 = r2_score(y_test, y_pred)\n",
        "print(\"R-squared (R²) Score:\", r2)"
      ],
      "metadata": {
        "colab": {
          "base_uri": "https://localhost:8080/"
        },
        "id": "ki7PoCD-FD_t",
        "outputId": "95965445-32e9-4d60-dd0a-91dbd963696f"
      },
      "execution_count": 52,
      "outputs": [
        {
          "output_type": "stream",
          "name": "stdout",
          "text": [
            "Mean Squared Error: 6.295924940677964\n",
            "Root Mean Squared Error: 2.50916817704154\n",
            "R-squared (R²) Score: 0.8869106614588704\n"
          ]
        }
      ]
    },
    {
      "cell_type": "code",
      "source": [
        "##Checking the best parameter for Linear Regression\n",
        "from sklearn.linear_model import LinearRegression\n",
        "from sklearn.model_selection import GridSearchCV\n",
        "# Define hyperparameters grid\n",
        "param_grid = {'fit_intercept': [True,False],'copy_X':[True,False],'positive':[True,False]}  # Adjust the range of values as needed\n",
        "\n",
        "# Perform grid search\n",
        "grid_search = GridSearchCV(LinearRegression(), param_grid, cv=5, scoring='r2')\n",
        "grid_search.fit(X, y)\n",
        "\n",
        "print(\"Best Score: \", grid_search.best_score_)\n",
        "print(\"Best Parameter Combination: \\n\", grid_search.best_params_)\n",
        "\n"
      ],
      "metadata": {
        "id": "vXJ1-G_aRsDF",
        "colab": {
          "base_uri": "https://localhost:8080/"
        },
        "outputId": "12251f4d-0fc0-443a-e909-d243b0c98ec8"
      },
      "execution_count": 54,
      "outputs": [
        {
          "output_type": "stream",
          "name": "stdout",
          "text": [
            "Best Score:  0.6218799625767565\n",
            "Best Parameter Combination: \n",
            " {'copy_X': True, 'fit_intercept': False, 'positive': False}\n"
          ]
        }
      ]
    },
    {
      "cell_type": "code",
      "source": [
        "from sklearn.linear_model import LinearRegression\n",
        "from sklearn.model_selection import train_test_split\n",
        "X_train,X_test,y_train,y_test=train_test_split(X,y,test_size=0.3)\n",
        "linear_model=LinearRegression(copy_X= True, fit_intercept= False, positive= False)\n",
        "linear_model.fit(X_train,y_train)\n",
        "y_pred_lin=linear_model.predict(X_test)\n",
        "\n",
        "#R2 Score\n",
        "r2 = r2_score(y_test,y_pred_lin)\n",
        "print(\"R2 Score of Linear Regression model is \",r2)"
      ],
      "metadata": {
        "colab": {
          "base_uri": "https://localhost:8080/"
        },
        "id": "sHlaLQ_g1LzW",
        "outputId": "977ef3a6-c34b-4ba4-d0cc-76ebbb97bdcf"
      },
      "execution_count": 56,
      "outputs": [
        {
          "output_type": "stream",
          "name": "stdout",
          "text": [
            "R2 Score of Linear Regression model is  0.8151308096228496\n"
          ]
        }
      ]
    },
    {
      "cell_type": "code",
      "source": [
        "##Checking the best parameter for Decision tree regression\n",
        "from sklearn.tree import DecisionTreeRegressor\n",
        "from sklearn.model_selection import GridSearchCV\n",
        "# Define hyperparameters grid\n",
        "param_grid = {\n",
        "    \"criterion\": [\"squared_error\", \"friedman_mse\", \"absolute_error\", \"poisson\"],\n",
        "    \"splitter\": [\"best\", \"random\"],\n",
        "    \"max_depth\": [3, 5, 7, 10],\n",
        "    \"max_leaf_nodes\": [None, 2, 5, 10]  # Corrected values for max_leaf_nodes\n",
        "}\n",
        "  # Adjust the range of values as needed\n",
        "\n",
        "# Perform grid search\n",
        "grid_search = GridSearchCV(DecisionTreeRegressor(), param_grid, cv=5, scoring='r2')\n",
        "grid_search.fit(X, y)\n",
        "\n",
        "print(\"Best Score: \", grid_search.best_score_)\n",
        "print(\"Best Parameter Combination: \\n\", grid_search.best_params_)"
      ],
      "metadata": {
        "colab": {
          "base_uri": "https://localhost:8080/"
        },
        "id": "6mVgDNZ27cwx",
        "outputId": "6b552e0a-cc0c-4028-b976-a9fa1a91e13b"
      },
      "execution_count": 58,
      "outputs": [
        {
          "output_type": "stream",
          "name": "stdout",
          "text": [
            "Best Score:  0.609820514960641\n",
            "Best Parameter Combination: \n",
            " {'criterion': 'friedman_mse', 'max_depth': 10, 'max_leaf_nodes': None, 'splitter': 'random'}\n"
          ]
        }
      ]
    },
    {
      "cell_type": "code",
      "source": [
        "#Decision tree regression\n",
        "from sklearn.tree import DecisionTreeRegressor\n",
        "X=autompg[['cylinders','displacement','horsepower','weight','acceleration','model year','origin']]\n",
        "y=autompg['mpg']\n",
        "from sklearn.model_selection import train_test_split\n",
        "\n",
        "X_train,X_test,y_train,y_test=train_test_split(X,y,test_size=0.4,random_state=42)\n",
        "\n",
        "dt_regressor = DecisionTreeRegressor(max_depth=5)\n",
        "dt_regressor.fit(X_train, y_train)\n",
        "\n",
        "y_pred_train = dt_regressor.predict(X_train)\n",
        "y_pred_test = dt_regressor.predict(X_test)\n",
        "\n",
        "\n",
        "\n",
        "train_r2 = r2_score(y_train, y_pred_train)\n",
        "test_r2 = r2_score(y_test, y_pred_test)\n",
        "print(\"Train R-squared:\", train_r2)\n",
        "print(\"Test R-squared:\", test_r2)\n",
        "\n",
        "import matplotlib.pyplot as plt\n",
        "plt.scatter(y_test, y_pred_test, color='blue', label='Predicted')\n",
        "plt.scatter(y_test, y_test, color='red', label='Actual')\n",
        "plt.xlabel(\"Actual MPG\")\n",
        "plt.ylabel(\"Predicted MPG\")\n",
        "plt.title(\"Actual vs Predicted MPG (Decision Tree Regression)\")\n",
        "plt.legend()\n",
        "plt.show()"
      ],
      "metadata": {
        "colab": {
          "base_uri": "https://localhost:8080/",
          "height": 509
        },
        "id": "OGj0ESOmHzTj",
        "outputId": "dbede948-b848-4d25-8b86-c3948b49e734"
      },
      "execution_count": 66,
      "outputs": [
        {
          "output_type": "stream",
          "name": "stdout",
          "text": [
            "Train R-squared: 0.940798083884849\n",
            "Test R-squared: 0.7797254643056808\n"
          ]
        },
        {
          "output_type": "display_data",
          "data": {
            "text/plain": [
              "<Figure size 640x480 with 1 Axes>"
            ],
            "image/png": "[encoded data removed]"
          },
          "metadata": {}
        }
      ]
    },
    {
      "cell_type": "code",
      "source": [
        "#Checking best parameter for Elastic Net\n",
        "from sklearn.linear_model import ElasticNet\n",
        "from sklearn.model_selection import GridSearchCV\n",
        "# Define hyperparameters grid\n",
        "param_grid = {\n",
        "    'alpha': [0.1, 0.5, 1.0, 2.0],  # Example values for alpha\n",
        "    'l1_ratio': [0.1, 0.3, 0.5, 0.7, 0.9], # Example values for l1_ratio\n",
        "    'positive':[True,False],\n",
        "    'random_state':[40,42,50,12,34,65],\n",
        "    'fit_intercept':[True,False]\n",
        "}\n",
        "\n",
        "# Perform grid search\n",
        "grid_search = GridSearchCV(ElasticNet(), param_grid, cv=5, scoring='r2')\n",
        "grid_search.fit(X, y)\n",
        "\n",
        "print(\"Best Score: \", grid_search.best_score_)\n",
        "print(\"Best Parameter Combination: \\n\", grid_search.best_params_)"
      ],
      "metadata": {
        "colab": {
          "base_uri": "https://localhost:8080/"
        },
        "id": "5EoZIKYUNfDL",
        "outputId": "71bd008c-fe2a-4bec-a723-4d1ab15aa429"
      },
      "execution_count": 78,
      "outputs": [
        {
          "output_type": "stream",
          "name": "stdout",
          "text": [
            "Best Score:  0.6035102258284832\n",
            "Best Parameter Combination: \n",
            " {'alpha': 2.0, 'fit_intercept': False, 'l1_ratio': 0.9, 'positive': False, 'random_state': 40}\n"
          ]
        }
      ]
    },
    {
      "cell_type": "code",
      "source": [
        "#Elastic Net Regression\n",
        "from sklearn.model_selection import train_test_split\n",
        "from sklearn.linear_model import ElasticNet\n",
        "X=autompg[['cylinders','displacement','horsepower','weight','acceleration','model year']]\n",
        "y=autompg['mpg']\n",
        "X_train, X_test, y_train, y_test = train_test_split(X, y, test_size=0.2, random_state=40)\n",
        "alpha = 0.1  # Regularization parameter\n",
        "l1_ratio = 0.1  # Mixing parameter, 0 for Ridge, 1 for LASSO\n",
        "elastic_net = ElasticNet(alpha=alpha, l1_ratio=l1_ratio,fit_intercept=False,random_state=40)\n",
        "elastic_net.fit(X_train, y_train)\n",
        "y_pred = elastic_net.predict(X_test)\n",
        "\n",
        "#Checking accuracy\n",
        "r2_test=r2_score(y_test,y_pred)\n",
        "print(\"The Accuracy of Elastic Net model is\",r2_test)\n",
        "\n",
        "#Plot Result\n",
        "\n",
        "import matplotlib.pyplot as plt\n",
        "\n",
        "plt.figure(figsize=(8, 6))\n",
        "plt.scatter(y_test, y_pred, color='blue', label='Actual vs. Predicted')\n",
        "plt.plot([y_test.min(), y_test.max()], [y_test.min(), y_test.max()], color='red', linestyle='--', lw=2, label='Ideal Line')\n",
        "plt.xlabel('Actual MPG')\n",
        "plt.ylabel('Predicted MPG')\n",
        "plt.title('Actual vs. Predicted MPG (Elastic Net Regression)')\n",
        "plt.legend()\n",
        "plt.show()\n"
      ],
      "metadata": {
        "colab": {
          "base_uri": "https://localhost:8080/",
          "height": 582
        },
        "id": "bDfN5WY2OKhQ",
        "outputId": "bc681907-4ecd-48f9-df12-985763110606"
      },
      "execution_count": 80,
      "outputs": [
        {
          "output_type": "stream",
          "name": "stdout",
          "text": [
            "The Accuracy of Elastic Net model is 0.8151523517303972\n"
          ]
        },
        {
          "output_type": "display_data",
          "data": {
            "text/plain": [
              "<Figure size 800x600 with 1 Axes>"
            ],
            "image/png": "[encoded data removed]"
          },
          "metadata": {}
        }
      ]
    },
    {
      "cell_type": "code",
      "source": [
        "#Laso Regression\n",
        "from sklearn.model_selection import train_test_split\n",
        "from sklearn.linear_model import Lasso\n",
        "X=autompg[['cylinders','displacement','horsepower','weight','acceleration','model year']]\n",
        "y=autompg['mpg']\n",
        "X_train, X_test, y_train, y_test = train_test_split(X, y, test_size=0.2, random_state=42)\n",
        "alpha = 0.1  # Regularization parameter\n",
        "lasso = Lasso(alpha=alpha, random_state=42)\n",
        "lasso.fit(X_train, y_train)\n",
        "y_pred = lasso.predict(X_test)\n",
        "r2_laso=r2_score(y_test,y_pred)\n",
        "print(\"The R2 score for lasso regression is\",r2_laso)"
      ],
      "metadata": {
        "colab": {
          "base_uri": "https://localhost:8080/"
        },
        "id": "fZIDhMpDPERh",
        "outputId": "7d4e9766-ec3e-4baf-a080-52267f6e7a6e"
      },
      "execution_count": 48,
      "outputs": [
        {
          "output_type": "stream",
          "name": "stdout",
          "text": [
            "The R2 score for lasso regression is 0.7923478558998387\n"
          ]
        }
      ]
    },
    {
      "cell_type": "code",
      "source": [
        "#Checking best parameter for KNearestNeighbors\n",
        "from sklearn.model_selection import GridSearchCV\n",
        "from sklearn.neighbors import KNeighborsRegressor\n",
        "# Define hyperparameters grid\n",
        "param_grid = {\n",
        "    'n_neighbors': [3, 5, 7, 9, 11],\n",
        "    'weights': ['uniform', 'distance'],\n",
        "    'p': [1, 2],  # Manhattan distance (L1), Euclidean distance (L2)\n",
        "    'n_jobs' : [None,-1],\n",
        "    'leaf_size':[5,10,15,20,25,30,35,40,45,50,55,60]\n",
        "}\n",
        "\n",
        "\n",
        "\n",
        "# Perform grid search\n",
        "grid_search = GridSearchCV(KNeighborsRegressor(), param_grid, cv=5, scoring='r2')\n",
        "grid_search.fit(X, y)\n",
        "\n",
        "print(\"Best Score: \", grid_search.best_score_)\n",
        "print(\"Best Parameter Combination: \\n\", grid_search.best_params_)"
      ],
      "metadata": {
        "colab": {
          "base_uri": "https://localhost:8080/"
        },
        "id": "lemQMrLJRMeC",
        "outputId": "c86524ca-7ea2-447f-d953-c6d30017d059"
      },
      "execution_count": 87,
      "outputs": [
        {
          "output_type": "stream",
          "name": "stdout",
          "text": [
            "Best Score:  0.4178332080331758\n",
            "Best Parameter Combination: \n",
            " {'leaf_size': 20, 'n_jobs': None, 'n_neighbors': 7, 'p': 1, 'weights': 'distance'}\n"
          ]
        }
      ]
    },
    {
      "cell_type": "code",
      "source": [
        "#KNN\n",
        "from sklearn.preprocessing import StandardScaler\n",
        "from sklearn.neighbors import KNeighborsRegressor\n",
        "X_train, X_test, y_train, y_test = train_test_split(X, y, test_size=0.2, random_state=42)\n",
        "\n",
        "\n",
        "scaler = StandardScaler()\n",
        "X_train_scaled = scaler.fit_transform(X_train)\n",
        "X_test_scaled = scaler.transform(X_test)\n",
        "\n",
        "\n",
        "knn_regressor = KNeighborsRegressor(n_neighbors=7,p=1,weights='distance',leaf_size=20)  # You can adjust the number of neighbors (n_neighbors) as needed\n",
        "\n",
        "\n",
        "knn_regressor.fit(X_train_scaled, y_train)\n",
        "y_pred = knn_regressor.predict(X_test_scaled)\n",
        "\n",
        "r2 = r2_score(y_test, y_pred)\n",
        "print(f\"R^2 Score: {r2}\")\n"
      ],
      "metadata": {
        "colab": {
          "base_uri": "https://localhost:8080/"
        },
        "id": "RpdIArJqQfWc",
        "outputId": "2a8989e1-26be-45af-bbbc-caba14c12a5c"
      },
      "execution_count": 89,
      "outputs": [
        {
          "output_type": "stream",
          "name": "stdout",
          "text": [
            "R^2 Score: 0.8946322452335674\n"
          ]
        }
      ]
    }
  ]
}